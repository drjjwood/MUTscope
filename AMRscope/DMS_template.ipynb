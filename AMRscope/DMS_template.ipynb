{
 "cells": [
  {
   "cell_type": "code",
   "execution_count": null,
   "id": "3055ebba-fb5a-4d37-9d95-0669ad393305",
   "metadata": {},
   "outputs": [],
   "source": [
    "import pandas as pd\n",
    "import sys\n",
    "from manuscript_notebooks.DMS_utils import plot_positions_hm, plot_risk_hist, prepare_full_df, plot_dms_heatmap, export_colored_pdb\n",
    "sys.path.append(\"../\")\n",
    "from plots_interpretation import visualize_structure_continuous_color, create_plot_grid, plot_probs_along_seq"
   ]
  },
  {
   "cell_type": "markdown",
   "id": "36827614-af1b-43d8-a74f-ecc3fb0473c1",
   "metadata": {},
   "source": [
    "# Setup"
   ]
  },
  {
   "cell_type": "markdown",
   "id": "0db8d175-fedc-4d83-a837-89aa16f90bba",
   "metadata": {},
   "source": [
    "Follow below steps then run full notebook:\n",
    "- step 1 download 'full_dataset.csv' from OSF and place in 'inputs' folder\n",
    "- step 2 download your protein pdb structure and place in 'inputs/structure files'\n",
    "- step 3 edit below cell with your orgnaism/gene name (matching full dataset format where possible), protein_id, wt sequence and file path to your output predictions csv"
   ]
  },
  {
   "cell_type": "code",
   "execution_count": null,
   "id": "6df124f1-77f8-4604-a460-04cf65290fc3",
   "metadata": {},
   "outputs": [],
   "source": [
    "selected_gene = 'your_gene'\n",
    "selected_org = 'your_organism'\n",
    "protein_id = 'your_id' # SHOULD BE THE PDB FILENAME\n",
    "wt = 'your_wt_aa_sequence'\n",
    "preds_path = 'inputs/dms_predict.csv'"
   ]
  },
  {
   "cell_type": "code",
   "execution_count": null,
   "id": "4ce8100f-c2a4-4cdb-b02b-c66968d3eb84",
   "metadata": {},
   "outputs": [],
   "source": [
    "---Run---"
   ]
  },
  {
   "cell_type": "code",
   "execution_count": null,
   "id": "d79b13f3-d2c7-4d4c-9f5d-b88e578c6aeb",
   "metadata": {},
   "outputs": [],
   "source": [
    "original_data_path = 'inputs/full_dataset.csv'\n",
    "pdb_folder = f'inputs/structure_files/'"
   ]
  },
  {
   "cell_type": "code",
   "execution_count": null,
   "id": "10a65247-632c-45f1-9326-25bdef9ec0db",
   "metadata": {},
   "outputs": [],
   "source": [
    "full_data = prepare_full_df(preds_path, original_data_path, wt, selected_org, selected_gene, protein_id)"
   ]
  },
  {
   "cell_type": "code",
   "execution_count": null,
   "id": "57d68bc7-85a2-42d0-856f-1650c0aa232c",
   "metadata": {},
   "outputs": [],
   "source": [
    "full_data.head()"
   ]
  },
  {
   "cell_type": "code",
   "execution_count": null,
   "id": "65cc75e6-eb39-41cb-ac12-3c08de315ad5",
   "metadata": {},
   "outputs": [],
   "source": [
    "plot_probs_along_seq(full_data, protein_id, feature = 'binary_predictions',fill_missing=True) "
   ]
  },
  {
   "cell_type": "code",
   "execution_count": null,
   "id": "2a7fa60e-b291-4c28-ab88-c3cf2950f4cc",
   "metadata": {},
   "outputs": [],
   "source": [
    "plot_probs_along_seq(full_data, protein_id, feature = 'binary_predictions',fill_missing=True, mode='points') "
   ]
  },
  {
   "cell_type": "code",
   "execution_count": null,
   "id": "6053d2f9-51f7-4ee0-a15e-d05ca9bd4074",
   "metadata": {},
   "outputs": [],
   "source": [
    "plot_probs_along_seq(full_data, protein_id, feature = 'binary_predictions',fill_missing=True, mode='lines') "
   ]
  },
  {
   "cell_type": "code",
   "execution_count": null,
   "id": "3f5ea328-4e50-4259-a9dd-a4d7d16653f1",
   "metadata": {},
   "outputs": [],
   "source": [
    "plot_probs_along_seq(full_data, protein_id, fill_missing=True)"
   ]
  },
  {
   "cell_type": "code",
   "execution_count": null,
   "id": "75e9c5ce-c7c1-49df-9795-139aeac2786e",
   "metadata": {},
   "outputs": [],
   "source": [
    "heatmap_df = plot_dms_heatmap(full_data, 'binary_predictions', selected_org, selected_gene, figsize=(50, 16))"
   ]
  },
  {
   "cell_type": "code",
   "execution_count": null,
   "id": "812b5b79-c357-454b-8430-5cee5f386120",
   "metadata": {},
   "outputs": [],
   "source": [
    "heatmap_df_probs = plot_dms_heatmap(full_data, 'probabilities', selected_org, selected_gene, figsize=(50, 16))"
   ]
  },
  {
   "cell_type": "code",
   "execution_count": null,
   "id": "5e49c0c1-4437-4464-96c2-d329e98dc417",
   "metadata": {},
   "outputs": [],
   "source": [
    "view = visualize_structure_continuous_color(pdb_file = f\"{pdb_folder}{protein_id}.pdb\", \n",
    "                                             value_df= full_data[full_data['uniprot_id']==protein_id], \n",
    "                                             value_col= 'probabilities',\n",
    "                                             position_col = 'position', \n",
    "                                             chain= 'A',colormap= \"viridis\")"
   ]
  },
  {
   "cell_type": "code",
   "execution_count": null,
   "id": "dda948f5-8ecc-4d48-b2fb-08e623996bad",
   "metadata": {},
   "outputs": [],
   "source": [
    "# this will save pdb file with prediciton values to load in pymol if needed\n",
    "export_colored_pdb(\n",
    "    pdb_file=f\"{pdb_folder}{protein_id}.pdb\",\n",
    "    value_df=full_data[full_data['uniprot_id']==protein_id],\n",
    "    value_col=\"probabilities\",\n",
    "    position_col=\"position\",\n",
    "    chain=\"A\",\n",
    "    out_pdb=f\"colored_{selected_org}_{selected_gene}.pdb\"\n",
    ")"
   ]
  },
  {
   "cell_type": "raw",
   "id": "fb166c5f-663f-4c0e-95a3-4a7ac15a4298",
   "metadata": {},
   "source": [
    "To get a static .png image from pymol run all below commands in pymol:\n",
    "\n",
    "load colored_{organism}_{gene}.pdb, mol\n",
    "\n",
    "hide everything, mol\n",
    "as cartoon, mol\n",
    "\n",
    "bg_color white\n",
    "\n",
    "set_color viridis1, [68/255., 1/255., 84/255.]\n",
    "set_color viridis2, [72/255., 40/255., 120/255.]\n",
    "set_color viridis3, [62/255., 73/255., 137/255.]\n",
    "set_color viridis4, [49/255., 104/255., 142/255.]\n",
    "set_color viridis5, [38/255., 130/255., 142/255.]\n",
    "set_color viridis6, [31/255., 158/255., 137/255.]\n",
    "set_color viridis7, [53/255., 183/255., 121/255.]\n",
    "set_color viridis8, [108/255., 206/255., 89/255.]\n",
    "set_color viridis9, [180/255., 222/255., 44/255.]\n",
    "set_color viridis10, [253/255., 231/255., 37/255.]\n",
    "\n",
    "spectrum b, viridis1 viridis2 viridis3 viridis4 viridis5 viridis6 viridis7 viridis8 viridis9 viridis10, mol\n",
    "\n",
    "# Move to orientation you want then;\n",
    "\n",
    "set ray_opaque_background, off\n",
    "png structuremap.png, width=2000, height=1500, dpi=300"
   ]
  },
  {
   "cell_type": "code",
   "execution_count": null,
   "id": "86483c81-5e1b-4f71-bcc5-ca3a544503db",
   "metadata": {},
   "outputs": [],
   "source": [
    "plot_risk_hist(\n",
    "    full_data['probabilities'],\n",
    "    selected_gene,\n",
    "    selected_org,\n",
    "    figsize=(12,6),\n",
    "    cmap=\"viridis\",\n",
    "    alpha=0.8\n",
    ")"
   ]
  },
  {
   "cell_type": "code",
   "execution_count": null,
   "id": "c34b38b8-e326-48cf-802b-b05dca34f80e",
   "metadata": {},
   "outputs": [],
   "source": [
    "full_data.risk.value_counts()/full_data.shape[0]*100"
   ]
  },
  {
   "cell_type": "code",
   "execution_count": null,
   "id": "9f13f903-1c0b-4571-82f8-75d911762653",
   "metadata": {},
   "outputs": [],
   "source": [
    "full_data.risk.value_counts()"
   ]
  },
  {
   "cell_type": "code",
   "execution_count": null,
   "id": "368f3970-06da-448d-a1e0-cb4eb1f9f12e",
   "metadata": {},
   "outputs": [],
   "source": [
    "def plot_random_position_heatmap(risk_group, full_data, heatmap_df, wt, selected_org, selected_gene):\n",
    "    position = list(full_data[(full_data['tag']!='original')&(full_data['risk']==risk_group)].sort_values(by='probabilities', ascending=False)['position'])[0]\n",
    "    posititon_df = pd.DataFrame(heatmap_df[position])\n",
    "    plot_positions_hm(posititon_df, risk_group, selected_org, selected_gene)\n",
    "    print(f'Most likely resistant = {posititon_df.idxmax().item()}')\n",
    "    wt_res = wt[posititon_df.columns.item()-1]\n",
    "    print(f'WT residue = {wt_res}')\n",
    "    wt_drop = posititon_df.drop(index=wt_res)\n",
    "    print(f'Least likely resistant (not wt) = {wt_drop.idxmin().item()}')"
   ]
  },
  {
   "cell_type": "code",
   "execution_count": null,
   "id": "f9c16353-31e1-4a1c-a8b0-184571531713",
   "metadata": {},
   "outputs": [],
   "source": [
    "plot_random_position_heatmap('Very High', full_data, heatmap_df_probs, wt, selected_org, selected_gene)"
   ]
  },
  {
   "cell_type": "code",
   "execution_count": null,
   "id": "a1e9f803-15d4-44c4-b474-8e63139bc633",
   "metadata": {},
   "outputs": [],
   "source": [
    "plot_random_position_heatmap('High', full_data, heatmap_df_probs, wt, selected_org, selected_gene)"
   ]
  },
  {
   "cell_type": "code",
   "execution_count": null,
   "id": "de2933ac-997e-40df-993e-837d96a31d8c",
   "metadata": {},
   "outputs": [],
   "source": [
    "plot_random_position_heatmap('Medium', full_data, heatmap_df_probs, wt, selected_org, selected_gene)"
   ]
  },
  {
   "cell_type": "code",
   "execution_count": null,
   "id": "56cde919-6881-4321-b571-f3d67590f4e8",
   "metadata": {},
   "outputs": [],
   "source": [
    "plot_random_position_heatmap('Low', full_data, heatmap_df_probs, wt, selected_org, selected_gene)"
   ]
  },
  {
   "cell_type": "code",
   "execution_count": null,
   "id": "ac771897-d166-4b7b-bdc4-0e96c67ef032",
   "metadata": {
    "scrolled": true
   },
   "outputs": [],
   "source": [
    "plot_random_position_heatmap('Very Low', full_data, heatmap_df_probs, wt, selected_org, selected_gene)"
   ]
  }
 ],
 "metadata": {
  "kernelspec": {
   "display_name": "amr_snp_pred",
   "language": "python",
   "name": "amr_snp_pred"
  },
  "language_info": {
   "codemirror_mode": {
    "name": "ipython",
    "version": 3
   },
   "file_extension": ".py",
   "mimetype": "text/x-python",
   "name": "python",
   "nbconvert_exporter": "python",
   "pygments_lexer": "ipython3",
   "version": "3.10.16"
  }
 },
 "nbformat": 4,
 "nbformat_minor": 5
}
